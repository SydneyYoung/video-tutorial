{
 "cells": [
  {
   "cell_type": "code",
   "execution_count": 1,
   "metadata": {
    "collapsed": true
   },
   "outputs": [],
   "source": [
    "import os"
   ]
  },
  {
   "cell_type": "code",
   "execution_count": 2,
   "metadata": {
    "collapsed": true
   },
   "outputs": [],
   "source": [
    "import pandas as pd"
   ]
  },
  {
   "cell_type": "code",
   "execution_count": 3,
   "metadata": {
    "collapsed": false
   },
   "outputs": [
    {
     "data": {
      "text/plain": [
       "'C:\\\\Users\\\\BP\\\\Desktop\\\\Folder_5\\\\video-tutorial\\\\video-tutorial'"
      ]
     },
     "execution_count": 3,
     "metadata": {},
     "output_type": "execute_result"
    }
   ],
   "source": [
    "os.getcwd()"
   ]
  },
  {
   "cell_type": "code",
   "execution_count": 4,
   "metadata": {
    "collapsed": true
   },
   "outputs": [],
   "source": [
    "os.chdir(\"C:/Users/BP/Desktop\")"
   ]
  },
  {
   "cell_type": "code",
   "execution_count": 5,
   "metadata": {
    "collapsed": false
   },
   "outputs": [
    {
     "ename": "TypeError",
     "evalue": "listdir() takes exactly 1 argument (0 given)",
     "output_type": "error",
     "traceback": [
      "\u001b[1;31m---------------------------------------------------------------------------\u001b[0m",
      "\u001b[1;31mTypeError\u001b[0m                                 Traceback (most recent call last)",
      "\u001b[1;32m<ipython-input-5-eff7f7465dbc>\u001b[0m in \u001b[0;36m<module>\u001b[1;34m()\u001b[0m\n\u001b[1;32m----> 1\u001b[1;33m \u001b[0mos\u001b[0m\u001b[1;33m.\u001b[0m\u001b[0mlistdir\u001b[0m\u001b[1;33m(\u001b[0m\u001b[1;33m)\u001b[0m\u001b[1;33m\u001b[0m\u001b[0m\n\u001b[0m",
      "\u001b[1;31mTypeError\u001b[0m: listdir() takes exactly 1 argument (0 given)"
     ]
    }
   ],
   "source": [
    "os.listdir()\n"
   ]
  },
  {
   "cell_type": "code",
   "execution_count": 6,
   "metadata": {
    "collapsed": false
   },
   "outputs": [
    {
     "data": {
      "text/plain": [
       "['.ipynb_checkpoints',\n",
       " 'acknowledgement.pdf',\n",
       " 'Baekkwan Park OPT LTR.pdf',\n",
       " 'Baekkwan_Park_Housing_Contract.pdf',\n",
       " 'BP_Analysis_Dec_27_2012.do',\n",
       " 'BP_Choice.csv',\n",
       " 'BP_Diss_July_1_2015_Draft.pdf',\n",
       " 'BP_Ford_Foreign_Language',\n",
       " 'BP_Ford_Project_for_Murdie',\n",
       " 'BP_Ford_Report_Draft_1.pdf',\n",
       " 'BP_Model_Selection_Graph.do',\n",
       " 'BP_News_Article_Processing_1 (1).ipynb',\n",
       " 'BP_News_Article_Processing_1.py',\n",
       " 'BP_Research_Statement_1.pdf',\n",
       " 'Classification_Original_2013_fall',\n",
       " 'comments_from_committee_Last_Year.docx',\n",
       " 'desktop.ini',\n",
       " 'Desktop_Dec_30_2014',\n",
       " 'Desktop_Materials_March_2014',\n",
       " 'Desktop_May_1_2015',\n",
       " 'Desktop_Sep_30_2014',\n",
       " 'ETC',\n",
       " 'Folder_1',\n",
       " 'Folder_2',\n",
       " 'Folder_3',\n",
       " 'Folder_4',\n",
       " 'Folder_5',\n",
       " 'ford_merge.py',\n",
       " 'ford_split.py',\n",
       " 'ford_spliter.py',\n",
       " 'Housing_Contract.docx',\n",
       " 'hro.log',\n",
       " 'HROS_Project_May_2014',\n",
       " 'HRO_List_for_Hercules.xcsv',\n",
       " 'isss-opt-expedite-advisor.pdf',\n",
       " 'Margins01.pdf',\n",
       " 'Mastering Machine Learning with scikit-learn.pdf',\n",
       " 'names_list.txt',\n",
       " 'ner',\n",
       " 'OPT_Expedite_Number.txt',\n",
       " 'Park_Murdie_Davis_APSA_2015_Draft.pdf',\n",
       " 'PROJECT',\n",
       " 'QTM_100_Lab_Assignment',\n",
       " 'spsa_13_table.pdf',\n",
       " 'Stata12',\n",
       " 'Stata9',\n",
       " 'StataSE - Shortcut.lnk',\n",
       " 'tethne-0.6.3.3-beta2',\n",
       " 'Texmaker.lnk',\n",
       " 'TopicModelingTool.jar',\n",
       " 'Topic_1_3000.csv',\n",
       " 'Topic_Classification_1',\n",
       " 'Topic_Model_Count_Final',\n",
       " 'Topic_Model_Tools',\n",
       " 'Topic_Trial',\n",
       " 'Tor Browser',\n",
       " 'train_mine.txt',\n",
       " 'Untitled.ipynb',\n",
       " 'Untitled1.ipynb',\n",
       " 'Untitled2.ipynb',\n",
       " 'WORKS_Checked_BP_AMP_HRO_Classification_Aug_22_2015_1.ipynb',\n",
       " '~$mments_from_committee_Last_Year.docx',\n",
       " '~$using_Contract.docx',\n",
       " '~WRL2553.tmp']"
      ]
     },
     "execution_count": 6,
     "metadata": {},
     "output_type": "execute_result"
    }
   ],
   "source": [
    "os.listdir(os.getcwd())"
   ]
  },
  {
   "cell_type": "code",
   "execution_count": null,
   "metadata": {
    "collapsed": true
   },
   "outputs": [],
   "source": []
  }
 ],
 "metadata": {
  "kernelspec": {
   "display_name": "Python 2",
   "language": "python",
   "name": "python2"
  },
  "language_info": {
   "codemirror_mode": {
    "name": "ipython",
    "version": 2
   },
   "file_extension": ".py",
   "mimetype": "text/x-python",
   "name": "python",
   "nbconvert_exporter": "python",
   "pygments_lexer": "ipython2",
   "version": "2.7.3"
  }
 },
 "nbformat": 4,
 "nbformat_minor": 0
}
